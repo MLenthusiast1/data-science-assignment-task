{
 "cells": [
  {
   "cell_type": "code",
   "execution_count": 1,
   "id": "eea1cf51",
   "metadata": {},
   "outputs": [],
   "source": [
    "import pandas as pd\n",
    "import numpy as np\n",
    "import matplotlib.pyplot as plt\n",
    "import seaborn as sns\n",
    "import warnings\n",
    "warnings.filterwarnings('ignore')\n",
    "%matplotlib inline "
   ]
  },
  {
   "cell_type": "code",
   "execution_count": 2,
   "id": "08773a81",
   "metadata": {},
   "outputs": [],
   "source": [
    "df=pd.read_csv('data_redacted.tsv',sep='\\t')"
   ]
  },
  {
   "cell_type": "code",
   "execution_count": 3,
   "id": "e23d6c30",
   "metadata": {},
   "outputs": [
    {
     "data": {
      "text/plain": [
       "Index(['title', 'text', 'url', 'category'], dtype='object')"
      ]
     },
     "execution_count": 3,
     "metadata": {},
     "output_type": "execute_result"
    }
   ],
   "source": [
    "df.columns"
   ]
  },
  {
   "cell_type": "code",
   "execution_count": 4,
   "id": "cef6727f",
   "metadata": {},
   "outputs": [
    {
     "data": {
      "text/plain": [
       "(8646, 4)"
      ]
     },
     "execution_count": 4,
     "metadata": {},
     "output_type": "execute_result"
    }
   ],
   "source": [
    "df.shape\n"
   ]
  },
  {
   "cell_type": "code",
   "execution_count": 5,
   "id": "546971fb",
   "metadata": {},
   "outputs": [
    {
     "data": {
      "text/html": [
       "<div>\n",
       "<style scoped>\n",
       "    .dataframe tbody tr th:only-of-type {\n",
       "        vertical-align: middle;\n",
       "    }\n",
       "\n",
       "    .dataframe tbody tr th {\n",
       "        vertical-align: top;\n",
       "    }\n",
       "\n",
       "    .dataframe thead th {\n",
       "        text-align: right;\n",
       "    }\n",
       "</style>\n",
       "<table border=\"1\" class=\"dataframe\">\n",
       "  <thead>\n",
       "    <tr style=\"text-align: right;\">\n",
       "      <th></th>\n",
       "      <th>title</th>\n",
       "      <th>text</th>\n",
       "      <th>url</th>\n",
       "      <th>category</th>\n",
       "    </tr>\n",
       "  </thead>\n",
       "  <tbody>\n",
       "    <tr>\n",
       "      <th>0</th>\n",
       "      <td>Don\"t Mourn the Y Chromosome</td>\n",
       "      <td>The human Y chromosome may vanish one day, but...</td>\n",
       "      <td>http://discovermagazine.com/2014/nov/13-y-not</td>\n",
       "      <td>technology_science</td>\n",
       "    </tr>\n",
       "    <tr>\n",
       "      <th>1</th>\n",
       "      <td>Destiny: Bungie to introduce ammo pack micro-t...</td>\n",
       "      <td>Bungie is putting together plans to start sell...</td>\n",
       "      <td>http://www.ibtimes.co.uk/destiny-bungie-introd...</td>\n",
       "      <td>digital_life</td>\n",
       "    </tr>\n",
       "    <tr>\n",
       "      <th>2</th>\n",
       "      <td>Daruvala to race for Josef Kaufmann Racing in ...</td>\n",
       "      <td>Highly rated Jehan Daruvala will race for Jose...</td>\n",
       "      <td>http://www.thecheckeredflag.co.uk/2015/12/daru...</td>\n",
       "      <td>sports</td>\n",
       "    </tr>\n",
       "    <tr>\n",
       "      <th>3</th>\n",
       "      <td>Secondary tropical forests absorb carbon at hi...</td>\n",
       "      <td>Forests are an important carbon sink. While mo...</td>\n",
       "      <td>http://www.sciencedaily.com/releases/2016/02/1...</td>\n",
       "      <td>technology_science</td>\n",
       "    </tr>\n",
       "    <tr>\n",
       "      <th>4</th>\n",
       "      <td>This Brow Hack Will Change the Way You Fill In...</td>\n",
       "      <td>Before everyone was trying to get eyebrows on ...</td>\n",
       "      <td>http://www.popsugar.com/beauty/How-Use-Brow-Ge...</td>\n",
       "      <td>fashion_beauty_lifestyle</td>\n",
       "    </tr>\n",
       "  </tbody>\n",
       "</table>\n",
       "</div>"
      ],
      "text/plain": [
       "                                               title  \\\n",
       "0                       Don\"t Mourn the Y Chromosome   \n",
       "1  Destiny: Bungie to introduce ammo pack micro-t...   \n",
       "2  Daruvala to race for Josef Kaufmann Racing in ...   \n",
       "3  Secondary tropical forests absorb carbon at hi...   \n",
       "4  This Brow Hack Will Change the Way You Fill In...   \n",
       "\n",
       "                                                text  \\\n",
       "0  The human Y chromosome may vanish one day, but...   \n",
       "1  Bungie is putting together plans to start sell...   \n",
       "2  Highly rated Jehan Daruvala will race for Jose...   \n",
       "3  Forests are an important carbon sink. While mo...   \n",
       "4  Before everyone was trying to get eyebrows on ...   \n",
       "\n",
       "                                                 url                  category  \n",
       "0      http://discovermagazine.com/2014/nov/13-y-not        technology_science  \n",
       "1  http://www.ibtimes.co.uk/destiny-bungie-introd...              digital_life  \n",
       "2  http://www.thecheckeredflag.co.uk/2015/12/daru...                    sports  \n",
       "3  http://www.sciencedaily.com/releases/2016/02/1...        technology_science  \n",
       "4  http://www.popsugar.com/beauty/How-Use-Brow-Ge...  fashion_beauty_lifestyle  "
      ]
     },
     "execution_count": 5,
     "metadata": {},
     "output_type": "execute_result"
    }
   ],
   "source": [
    "df.head()"
   ]
  },
  {
   "cell_type": "code",
   "execution_count": 6,
   "id": "a03cb052",
   "metadata": {},
   "outputs": [
    {
     "data": {
      "text/html": [
       "<div>\n",
       "<style scoped>\n",
       "    .dataframe tbody tr th:only-of-type {\n",
       "        vertical-align: middle;\n",
       "    }\n",
       "\n",
       "    .dataframe tbody tr th {\n",
       "        vertical-align: top;\n",
       "    }\n",
       "\n",
       "    .dataframe thead th {\n",
       "        text-align: right;\n",
       "    }\n",
       "</style>\n",
       "<table border=\"1\" class=\"dataframe\">\n",
       "  <thead>\n",
       "    <tr style=\"text-align: right;\">\n",
       "      <th></th>\n",
       "      <th>count</th>\n",
       "      <th>unique</th>\n",
       "      <th>top</th>\n",
       "      <th>freq</th>\n",
       "    </tr>\n",
       "  </thead>\n",
       "  <tbody>\n",
       "    <tr>\n",
       "      <th>title</th>\n",
       "      <td>8646</td>\n",
       "      <td>8639</td>\n",
       "      <td>The 10 things in advertising you need to know ...</td>\n",
       "      <td>3</td>\n",
       "    </tr>\n",
       "    <tr>\n",
       "      <th>text</th>\n",
       "      <td>8646</td>\n",
       "      <td>8646</td>\n",
       "      <td>Chancellor George Osborne has said a Conservat...</td>\n",
       "      <td>1</td>\n",
       "    </tr>\n",
       "    <tr>\n",
       "      <th>url</th>\n",
       "      <td>8646</td>\n",
       "      <td>8646</td>\n",
       "      <td>http://www.femalefirst.co.uk/tv/news/simon-cow...</td>\n",
       "      <td>1</td>\n",
       "    </tr>\n",
       "    <tr>\n",
       "      <th>category</th>\n",
       "      <td>8646</td>\n",
       "      <td>12</td>\n",
       "      <td>fashion_beauty_lifestyle</td>\n",
       "      <td>1398</td>\n",
       "    </tr>\n",
       "  </tbody>\n",
       "</table>\n",
       "</div>"
      ],
      "text/plain": [
       "         count unique                                                top  freq\n",
       "title     8646   8639  The 10 things in advertising you need to know ...     3\n",
       "text      8646   8646  Chancellor George Osborne has said a Conservat...     1\n",
       "url       8646   8646  http://www.femalefirst.co.uk/tv/news/simon-cow...     1\n",
       "category  8646     12                           fashion_beauty_lifestyle  1398"
      ]
     },
     "execution_count": 6,
     "metadata": {},
     "output_type": "execute_result"
    }
   ],
   "source": [
    "df.describe().transpose()"
   ]
  },
  {
   "cell_type": "markdown",
   "id": "440853ca",
   "metadata": {},
   "source": [
    "##### We can observe almost all the urls are unique and they dont provide much information regarding news classification"
   ]
  },
  {
   "cell_type": "code",
   "execution_count": 7,
   "id": "38a684c2",
   "metadata": {},
   "outputs": [
    {
     "data": {
      "text/plain": [
       "8639"
      ]
     },
     "execution_count": 7,
     "metadata": {},
     "output_type": "execute_result"
    }
   ],
   "source": [
    "df['title'].value_counts().count()"
   ]
  },
  {
   "cell_type": "markdown",
   "id": "c9e2be1f",
   "metadata": {},
   "source": [
    "##### Also it seems most of the titles are unique,and all the info in Title is also visible in News text. So its better to remove the Title\n",
    "##### As a conclusion we can treat text column as input and category as output."
   ]
  },
  {
   "cell_type": "markdown",
   "id": "eb5688c1",
   "metadata": {},
   "source": [
    "### Data Cleaning/EDA"
   ]
  },
  {
   "cell_type": "code",
   "execution_count": 8,
   "id": "d64ccb85",
   "metadata": {},
   "outputs": [
    {
     "data": {
      "text/plain": [
       "title       0\n",
       "text        0\n",
       "url         0\n",
       "category    0\n",
       "dtype: int64"
      ]
     },
     "execution_count": 8,
     "metadata": {},
     "output_type": "execute_result"
    }
   ],
   "source": [
    "df.isnull().sum().sort_values(ascending=False)"
   ]
  },
  {
   "cell_type": "markdown",
   "id": "d04f0762",
   "metadata": {},
   "source": [
    "#### Dropping title and url columns as they seems to be not very useful"
   ]
  },
  {
   "cell_type": "code",
   "execution_count": 9,
   "id": "77927ae0",
   "metadata": {},
   "outputs": [],
   "source": [
    "df.drop(columns=['url','title'],inplace=True)"
   ]
  },
  {
   "cell_type": "markdown",
   "id": "b93b8be5",
   "metadata": {},
   "source": [
    "##### Applying basic cleaning  : Below  function converts the data to lower-case, removes square brackets,removes numbers and new line charecter\n"
   ]
  },
  {
   "cell_type": "code",
   "execution_count": 10,
   "id": "51f5f957",
   "metadata": {},
   "outputs": [],
   "source": [
    "import re \n",
    "import string \n",
    "def text_cleaner(text):\n",
    "    text=text.lower()\n",
    "    text=re.sub('\\[.*?\\]','',text)\n",
    "    text=re.sub('\\w*\\d\\w*','',text)\n",
    "    text=re.sub('\\n','',text)  \n",
    "    return text\n",
    "\n",
    "cleaner=lambda x:text_cleaner(x)\n",
    "    \n",
    "    "
   ]
  },
  {
   "cell_type": "code",
   "execution_count": 11,
   "id": "489c844f",
   "metadata": {},
   "outputs": [],
   "source": [
    "df['cleaned_text']=pd.DataFrame(df['text'].apply(cleaner))\n"
   ]
  },
  {
   "cell_type": "code",
   "execution_count": 12,
   "id": "39d60c1a",
   "metadata": {},
   "outputs": [
    {
     "data": {
      "text/html": [
       "<div>\n",
       "<style scoped>\n",
       "    .dataframe tbody tr th:only-of-type {\n",
       "        vertical-align: middle;\n",
       "    }\n",
       "\n",
       "    .dataframe tbody tr th {\n",
       "        vertical-align: top;\n",
       "    }\n",
       "\n",
       "    .dataframe thead th {\n",
       "        text-align: right;\n",
       "    }\n",
       "</style>\n",
       "<table border=\"1\" class=\"dataframe\">\n",
       "  <thead>\n",
       "    <tr style=\"text-align: right;\">\n",
       "      <th></th>\n",
       "      <th>text</th>\n",
       "      <th>category</th>\n",
       "      <th>cleaned_text</th>\n",
       "    </tr>\n",
       "  </thead>\n",
       "  <tbody>\n",
       "    <tr>\n",
       "      <th>0</th>\n",
       "      <td>The human Y chromosome may vanish one day, but...</td>\n",
       "      <td>technology_science</td>\n",
       "      <td>the human y chromosome may vanish one day, but...</td>\n",
       "    </tr>\n",
       "    <tr>\n",
       "      <th>1</th>\n",
       "      <td>Bungie is putting together plans to start sell...</td>\n",
       "      <td>digital_life</td>\n",
       "      <td>bungie is putting together plans to start sell...</td>\n",
       "    </tr>\n",
       "    <tr>\n",
       "      <th>2</th>\n",
       "      <td>Highly rated Jehan Daruvala will race for Jose...</td>\n",
       "      <td>sports</td>\n",
       "      <td>highly rated jehan daruvala will race for jose...</td>\n",
       "    </tr>\n",
       "    <tr>\n",
       "      <th>3</th>\n",
       "      <td>Forests are an important carbon sink. While mo...</td>\n",
       "      <td>technology_science</td>\n",
       "      <td>forests are an important carbon sink. while mo...</td>\n",
       "    </tr>\n",
       "    <tr>\n",
       "      <th>4</th>\n",
       "      <td>Before everyone was trying to get eyebrows on ...</td>\n",
       "      <td>fashion_beauty_lifestyle</td>\n",
       "      <td>before everyone was trying to get eyebrows on ...</td>\n",
       "    </tr>\n",
       "  </tbody>\n",
       "</table>\n",
       "</div>"
      ],
      "text/plain": [
       "                                                text  \\\n",
       "0  The human Y chromosome may vanish one day, but...   \n",
       "1  Bungie is putting together plans to start sell...   \n",
       "2  Highly rated Jehan Daruvala will race for Jose...   \n",
       "3  Forests are an important carbon sink. While mo...   \n",
       "4  Before everyone was trying to get eyebrows on ...   \n",
       "\n",
       "                   category                                       cleaned_text  \n",
       "0        technology_science  the human y chromosome may vanish one day, but...  \n",
       "1              digital_life  bungie is putting together plans to start sell...  \n",
       "2                    sports  highly rated jehan daruvala will race for jose...  \n",
       "3        technology_science  forests are an important carbon sink. while mo...  \n",
       "4  fashion_beauty_lifestyle  before everyone was trying to get eyebrows on ...  "
      ]
     },
     "execution_count": 12,
     "metadata": {},
     "output_type": "execute_result"
    }
   ],
   "source": [
    "df.head()"
   ]
  },
  {
   "cell_type": "code",
   "execution_count": 13,
   "id": "bcfca8da",
   "metadata": {},
   "outputs": [],
   "source": [
    "X=df['cleaned_text']\n",
    "y=df['category']"
   ]
  },
  {
   "cell_type": "code",
   "execution_count": 14,
   "id": "460db20a",
   "metadata": {},
   "outputs": [
    {
     "data": {
      "text/plain": [
       "((8646,), (8646,))"
      ]
     },
     "execution_count": 14,
     "metadata": {},
     "output_type": "execute_result"
    }
   ],
   "source": [
    "X.shape,y.shape"
   ]
  },
  {
   "cell_type": "code",
   "execution_count": 15,
   "id": "e79a6616",
   "metadata": {},
   "outputs": [
    {
     "data": {
      "text/plain": [
       "0       the human y chromosome may vanish one day, but...\n",
       "1       bungie is putting together plans to start sell...\n",
       "2       highly rated jehan daruvala will race for jose...\n",
       "3       forests are an important carbon sink. while mo...\n",
       "4       before everyone was trying to get eyebrows on ...\n",
       "                              ...                        \n",
       "8641    since when did pubic hair become so yucky? sur...\n",
       "8642    what’s your reaction? thanks for your reaction...\n",
       "8643    ‘what the hell is “new baltic cuisine” when it...\n",
       "8644    if achieving a healthier lifestyle is one of y...\n",
       "8645    the firm has completed three years as the nort...\n",
       "Name: cleaned_text, Length: 8646, dtype: object"
      ]
     },
     "execution_count": 15,
     "metadata": {},
     "output_type": "execute_result"
    }
   ],
   "source": [
    "X"
   ]
  },
  {
   "cell_type": "markdown",
   "id": "e670b92b",
   "metadata": {},
   "source": [
    "### Data Preprocessing "
   ]
  },
  {
   "cell_type": "markdown",
   "id": "80782da0",
   "metadata": {},
   "source": [
    "##### Since the input X is in text format, we need to use CountVectorizer or TfidfVEctorizer. I have used Tfidfvectorizer because it performs better than CountVectorizer."
   ]
  },
  {
   "cell_type": "code",
   "execution_count": 16,
   "id": "f0e016ee",
   "metadata": {},
   "outputs": [
    {
     "name": "stdout",
     "output_type": "stream",
     "text": [
      "(8646, 96877)\n"
     ]
    }
   ],
   "source": [
    "from sklearn.feature_extraction.text import TfidfVectorizer\n",
    "vect=TfidfVectorizer(stop_words='english')\n",
    "X_vec= vect.fit_transform(X)\n",
    "print(X_vec.shape)"
   ]
  },
  {
   "cell_type": "code",
   "execution_count": 17,
   "id": "68099689",
   "metadata": {
    "scrolled": true
   },
   "outputs": [
    {
     "data": {
      "text/plain": [
       "<AxesSubplot:>"
      ]
     },
     "execution_count": 17,
     "metadata": {},
     "output_type": "execute_result"
    },
    {
     "data": {
      "image/png": "[encoded data removed]",
      "text/plain": [
       "<Figure size 432x288 with 1 Axes>"
      ]
     },
     "metadata": {
      "needs_background": "light"
     },
     "output_type": "display_data"
    }
   ],
   "source": [
    "df['category'].value_counts().plot(kind='bar')"
   ]
  },
  {
   "cell_type": "markdown",
   "id": "57693c2d",
   "metadata": {},
   "source": [
    "##### By seeing the bar chart we can observe that the data is imballenced.\n",
    "##### To remove the imbalence in data we need to perform sampling of data.\n",
    "##### Applying SMOTE oversampling technique.\n",
    "##### Smote is a very effective sampling technique in generating new data.\n",
    "##### Smote internally uses KNN to create new records."
   ]
  },
  {
   "cell_type": "code",
   "execution_count": 18,
   "id": "e9a8cd61",
   "metadata": {},
   "outputs": [],
   "source": [
    "from imblearn.over_sampling import SMOTE\n",
    "sm=SMOTE(random_state=42)\n",
    "X_sampled, y_sampled = sm.fit_resample(X_vec, y)"
   ]
  },
  {
   "cell_type": "markdown",
   "id": "831a6c60",
   "metadata": {},
   "source": [
    "##### Splitting the data into train and test with test size=25% and train size=75% , I will check with diffrence train and test percentage to get maximum accuracy of model."
   ]
  },
  {
   "cell_type": "code",
   "execution_count": 19,
   "id": "e14def82",
   "metadata": {},
   "outputs": [],
   "source": [
    "from sklearn.model_selection import train_test_split\n",
    "X_train,X_test,y_train,y_test=train_test_split(X_sampled,y_sampled,random_state=44,test_size=0.25)"
   ]
  },
  {
   "cell_type": "code",
   "execution_count": 20,
   "id": "e99a50c9",
   "metadata": {},
   "outputs": [
    {
     "data": {
      "text/plain": [
       "((12582, 96877), (4194, 96877), (12582,), (4194,))"
      ]
     },
     "execution_count": 20,
     "metadata": {},
     "output_type": "execute_result"
    }
   ],
   "source": [
    "X_train.shape,X_test.shape,y_train.shape,y_test.shape"
   ]
  },
  {
   "cell_type": "code",
   "execution_count": 21,
   "id": "3244fa4c",
   "metadata": {},
   "outputs": [],
   "source": [
    "\n",
    "from sklearn.metrics import confusion_matrix,accuracy_score,precision_score,recall_score,classification_report\n"
   ]
  },
  {
   "cell_type": "markdown",
   "id": "cef0545c",
   "metadata": {},
   "source": [
    "##### Applying multinomial NB as it mostly used for text data.\n",
    "##### It uses only one assumption that each feature is independent of each other.\n",
    "##### Multinomial NB works very good for categorical features."
   ]
  },
  {
   "cell_type": "code",
   "execution_count": 22,
   "id": "041290da",
   "metadata": {},
   "outputs": [
    {
     "name": "stdout",
     "output_type": "stream",
     "text": [
      "0.8948497854077253\n",
      "0.9034692308180601\n",
      "0.8948497854077253\n",
      "                          precision    recall  f1-score   support\n",
      "\n",
      "             cars_motors       0.93      0.98      0.96       326\n",
      "                 culture       0.83      0.93      0.87       355\n",
      "            digital_life       0.96      0.92      0.94       354\n",
      "fashion_beauty_lifestyle       0.91      0.68      0.78       364\n",
      "          money_business       0.86      0.95      0.90       363\n",
      "                   music       0.92      0.98      0.95       348\n",
      "                    news       0.97      0.69      0.81       350\n",
      "            people_shows       0.95      0.95      0.95       381\n",
      "                politics       0.77      0.99      0.87       332\n",
      "                  sports       1.00      0.93      0.97       320\n",
      "      technology_science       0.94      0.76      0.84       361\n",
      "                  travel       0.81      0.99      0.89       340\n",
      "\n",
      "                accuracy                           0.89      4194\n",
      "               macro avg       0.90      0.90      0.89      4194\n",
      "            weighted avg       0.90      0.89      0.89      4194\n",
      "\n"
     ]
    }
   ],
   "source": [
    "    from sklearn.naive_bayes import MultinomialNB\n",
    "    nb=MultinomialNB()\n",
    "    nb.fit(X_train,y_train)\n",
    "    y_pred_nb=nb.predict(X_test)\n",
    "    print(accuracy_score(y_test,y_pred_nb))\n",
    "    print(precision_score(y_test,y_pred_nb,average='weighted'))\n",
    "    print(recall_score(y_test,y_pred_nb,average='weighted'))\n",
    "    print(classification_report(y_test,y_pred_nb))\n",
    "  \n"
   ]
  },
  {
   "cell_type": "markdown",
   "id": "c305d702",
   "metadata": {},
   "source": [
    "##### With multinomial Naive bias the accuracy found is nearly 89 %,and the prescision and recall is also not very good.\n",
    "##### So i am trying SVM as it is best suggested for Text data.\n",
    "##### It works very well with very high number of features. SVC works very well for complex data.\n",
    "##### And we can use kernel tricks also to make it more accurate.\n"
   ]
  },
  {
   "cell_type": "code",
   "execution_count": 23,
   "id": "9cb6ea7f",
   "metadata": {},
   "outputs": [
    {
     "name": "stdout",
     "output_type": "stream",
     "text": [
      "0.9632808774439676\n",
      "0.9640024356699181\n",
      "0.9632808774439676\n",
      "                          precision    recall  f1-score   support\n",
      "\n",
      "             cars_motors       0.99      0.99      0.99       326\n",
      "                 culture       0.97      0.95      0.96       355\n",
      "            digital_life       0.97      0.95      0.96       354\n",
      "fashion_beauty_lifestyle       0.85      0.90      0.88       364\n",
      "          money_business       0.98      0.97      0.97       363\n",
      "                   music       0.99      0.98      0.98       348\n",
      "                    news       0.96      0.96      0.96       350\n",
      "            people_shows       0.99      0.98      0.98       381\n",
      "                politics       0.97      0.99      0.98       332\n",
      "                  sports       0.98      0.99      0.98       320\n",
      "      technology_science       0.93      0.94      0.93       361\n",
      "                  travel       1.00      0.97      0.99       340\n",
      "\n",
      "                accuracy                           0.96      4194\n",
      "               macro avg       0.96      0.96      0.96      4194\n",
      "            weighted avg       0.96      0.96      0.96      4194\n",
      "\n"
     ]
    }
   ],
   "source": [
    "from sklearn.svm import SVC\n",
    "svc=SVC()\n",
    "svc.fit(X_train,y_train)\n",
    "y_pred_svc=svc.predict(X_test)\n",
    "print(accuracy_score(y_test,y_pred_svc))\n",
    "print(precision_score(y_test,y_pred_svc,average='weighted'))\n",
    "print(recall_score(y_test,y_pred_svc,average='weighted'))\n",
    "print(classification_report(y_test,y_pred_svc))\n",
    "  "
   ]
  },
  {
   "cell_type": "markdown",
   "id": "8dd1da59",
   "metadata": {},
   "source": [
    "#### Support Vector Classifer gives very good accuracy of nearly 96 % . "
   ]
  },
  {
   "cell_type": "code",
   "execution_count": 24,
   "id": "5f1333e9",
   "metadata": {},
   "outputs": [
    {
     "name": "stdout",
     "output_type": "stream",
     "text": [
      "0.9427753934191703\n",
      "0.9427832273067474\n",
      "0.9427753934191703\n",
      "                          precision    recall  f1-score   support\n",
      "\n",
      "             cars_motors       0.96      0.98      0.97       326\n",
      "                 culture       0.96      0.93      0.94       355\n",
      "            digital_life       0.96      0.93      0.95       354\n",
      "fashion_beauty_lifestyle       0.86      0.85      0.86       364\n",
      "          money_business       0.92      0.96      0.94       363\n",
      "                   music       0.96      0.98      0.97       348\n",
      "                    news       0.93      0.92      0.92       350\n",
      "            people_shows       0.97      0.98      0.97       381\n",
      "                politics       0.94      0.98      0.96       332\n",
      "                  sports       0.97      0.97      0.97       320\n",
      "      technology_science       0.91      0.88      0.89       361\n",
      "                  travel       0.97      0.96      0.97       340\n",
      "\n",
      "                accuracy                           0.94      4194\n",
      "               macro avg       0.94      0.94      0.94      4194\n",
      "            weighted avg       0.94      0.94      0.94      4194\n",
      "\n"
     ]
    }
   ],
   "source": [
    "from sklearn.linear_model import LogisticRegression\n",
    "lr = LogisticRegression(multi_class='ovr')\n",
    "lr.fit(X_train,y_train)\n",
    "y_pred_lr=lr.predict(X_test)\n",
    "print(accuracy_score(y_test,y_pred_lr))\n",
    "print(precision_score(y_test,y_pred_lr,average='weighted'))\n",
    "print(recall_score(y_test,y_pred_lr,average='weighted'))\n",
    "print(classification_report(y_test,y_pred_lr))"
   ]
  },
  {
   "cell_type": "code",
   "execution_count": null,
   "id": "740c9946",
   "metadata": {},
   "outputs": [],
   "source": [
    "from sklearn.ensemble import RandomForestClassifier\n",
    "rfc=RandomForestClassifier()\n",
    "rfc.fit(X_train,y_train)\n",
    "y_pred_rfc=rfc.predict(X_test)\n",
    "print(accuracy_score(y_test,y_pred_rfc))\n",
    "print(precision_score(y_test,y_pred_rfc,average='weighted'))\n",
    "print(recall_score(y_test,y_pred_rfc,average='weighted'))\n",
    "print(classification_report(y_test,y_pred_rfc))\n"
   ]
  },
  {
   "cell_type": "markdown",
   "id": "62a598b0",
   "metadata": {},
   "source": [
    "##### I tried  Adaboost,GradientBoost,Xgboost,Lasso,Ridge,Elasticnet also but i was not able to see good accuracy .\n",
    "##### As a conclusion i found i am able to get best precision,recall,accuracy using Support Vector Classifer.\n",
    "##### I tried multiple kernet trics also to imporove the accuracy but 96 % is maximum accuracy i could achieve.\n",
    "##### Packaging the SVC model in pipeline with TfidfVectorizer for new prediction .\n",
    "\n"
   ]
  },
  {
   "cell_type": "code",
   "execution_count": null,
   "id": "60c7d888",
   "metadata": {},
   "outputs": [],
   "source": [
    "import pickle\n",
    "\n",
    "pipeline_svc=Pipeline([('vectorizer',vect),('classifier',svc)])\n",
    "pickle.dump(pipeline_svc,open('classifer_model.pkl','wb'))"
   ]
  }
 ],
 "metadata": {
  "kernelspec": {
   "display_name": "Python 3",
   "language": "python",
   "name": "python3"
  },
  "language_info": {
   "codemirror_mode": {
    "name": "ipython",
    "version": 3
   },
   "file_extension": ".py",
   "mimetype": "text/x-python",
   "name": "python",
   "nbconvert_exporter": "python",
   "pygments_lexer": "ipython3",
   "version": "3.9.4"
  }
 },
 "nbformat": 4,
 "nbformat_minor": 5
}
